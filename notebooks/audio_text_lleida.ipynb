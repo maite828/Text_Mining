{
 "metadata": {
  "name": "",
  "signature": "sha256:8827b7d40f8c72d317ccdd6a1585e59ed7df39ca04c9b2e3c8dee160b20cb69b"
 },
 "nbformat": 3,
 "nbformat_minor": 0,
 "worksheets": [
  {
   "cells": [
    {
     "cell_type": "code",
     "collapsed": false,
     "input": [
      "import pandas as pd"
     ],
     "language": "python",
     "metadata": {},
     "outputs": [],
     "prompt_number": 1
    },
    {
     "cell_type": "code",
     "collapsed": false,
     "input": [
      "    path = '/Users/zoraida/Analytics/analytics-text-mining/data/lleida/audio_text.final'\n",
      "    frame = pd.read_csv(path, sep='\\t')"
     ],
     "language": "python",
     "metadata": {},
     "outputs": [],
     "prompt_number": 4
    },
    {
     "cell_type": "code",
     "collapsed": false,
     "input": [
      "frame.describe()"
     ],
     "language": "python",
     "metadata": {},
     "outputs": [
      {
       "html": [
        "<div style=\"max-height:1000px;max-width:1500px;overflow:auto;\">\n",
        "<table border=\"1\" class=\"dataframe\">\n",
        "  <thead>\n",
        "    <tr style=\"text-align: right;\">\n",
        "      <th></th>\n",
        "      <th>cust_mean_articulation_rate</th>\n",
        "      <th>cust_sd_articulation_rate</th>\n",
        "      <th>age_mean_articulation_rate</th>\n",
        "      <th>age_sd_articulation_rate</th>\n",
        "      <th>cust_mean_f0</th>\n",
        "      <th>cust_sd_f0</th>\n",
        "      <th>cust_mean_loudness</th>\n",
        "      <th>cust_sd_loudness</th>\n",
        "      <th>age_mean_f0</th>\n",
        "      <th>age_sd_f0</th>\n",
        "      <th>age_mean_loudness</th>\n",
        "      <th>age_sd_loudness</th>\n",
        "    </tr>\n",
        "  </thead>\n",
        "  <tbody>\n",
        "    <tr>\n",
        "      <th>count</th>\n",
        "      <td> 2002.000000</td>\n",
        "      <td> 2002.000000</td>\n",
        "      <td> 2002.000000</td>\n",
        "      <td> 2002.000000</td>\n",
        "      <td> 2002.000000</td>\n",
        "      <td> 2002.000000</td>\n",
        "      <td> 2002.000000</td>\n",
        "      <td> 2002.000000</td>\n",
        "      <td> 2002.000000</td>\n",
        "      <td> 2002.000000</td>\n",
        "      <td> 2002.000000</td>\n",
        "      <td> 2002.000000</td>\n",
        "    </tr>\n",
        "    <tr>\n",
        "      <th>mean</th>\n",
        "      <td>    4.848766</td>\n",
        "      <td>    0.693405</td>\n",
        "      <td>    5.145975</td>\n",
        "      <td>    0.799920</td>\n",
        "      <td>  128.061075</td>\n",
        "      <td>   29.060371</td>\n",
        "      <td>    0.813690</td>\n",
        "      <td>    0.198729</td>\n",
        "      <td>  133.920567</td>\n",
        "      <td>   30.701066</td>\n",
        "      <td>    0.796556</td>\n",
        "      <td>    0.205693</td>\n",
        "    </tr>\n",
        "    <tr>\n",
        "      <th>std</th>\n",
        "      <td>    0.435694</td>\n",
        "      <td>    0.253953</td>\n",
        "      <td>    0.400383</td>\n",
        "      <td>    0.186367</td>\n",
        "      <td>   34.907303</td>\n",
        "      <td>   12.711645</td>\n",
        "      <td>    0.234001</td>\n",
        "      <td>    0.086241</td>\n",
        "      <td>   35.844737</td>\n",
        "      <td>   11.442280</td>\n",
        "      <td>    0.206701</td>\n",
        "      <td>    0.069347</td>\n",
        "    </tr>\n",
        "    <tr>\n",
        "      <th>min</th>\n",
        "      <td>    0.700000</td>\n",
        "      <td>    0.005774</td>\n",
        "      <td>    0.725000</td>\n",
        "      <td>    0.116905</td>\n",
        "      <td>    1.141639</td>\n",
        "      <td>    0.668917</td>\n",
        "      <td>    0.048091</td>\n",
        "      <td>    0.000388</td>\n",
        "      <td>    4.073363</td>\n",
        "      <td>    0.457614</td>\n",
        "      <td>    0.054995</td>\n",
        "      <td>    0.008627</td>\n",
        "    </tr>\n",
        "    <tr>\n",
        "      <th>25%</th>\n",
        "      <td>    4.542500</td>\n",
        "      <td>    0.576217</td>\n",
        "      <td>    4.910706</td>\n",
        "      <td>    0.687825</td>\n",
        "      <td>  101.862581</td>\n",
        "      <td>   21.427485</td>\n",
        "      <td>    0.668948</td>\n",
        "      <td>    0.142530</td>\n",
        "      <td>  103.487214</td>\n",
        "      <td>   22.609050</td>\n",
        "      <td>    0.652981</td>\n",
        "      <td>    0.157801</td>\n",
        "    </tr>\n",
        "    <tr>\n",
        "      <th>50%</th>\n",
        "      <td>    4.856493</td>\n",
        "      <td>    0.708838</td>\n",
        "      <td>    5.159856</td>\n",
        "      <td>    0.777665</td>\n",
        "      <td>  121.638121</td>\n",
        "      <td>   27.188531</td>\n",
        "      <td>    0.794938</td>\n",
        "      <td>    0.187609</td>\n",
        "      <td>  137.825228</td>\n",
        "      <td>   28.892610</td>\n",
        "      <td>    0.782158</td>\n",
        "      <td>    0.196808</td>\n",
        "    </tr>\n",
        "    <tr>\n",
        "      <th>75%</th>\n",
        "      <td>    5.143542</td>\n",
        "      <td>    0.827425</td>\n",
        "      <td>    5.387731</td>\n",
        "      <td>    0.883048</td>\n",
        "      <td>  152.653694</td>\n",
        "      <td>   34.322609</td>\n",
        "      <td>    0.940467</td>\n",
        "      <td>    0.246593</td>\n",
        "      <td>  160.544706</td>\n",
        "      <td>   36.823967</td>\n",
        "      <td>    0.933930</td>\n",
        "      <td>    0.246989</td>\n",
        "    </tr>\n",
        "    <tr>\n",
        "      <th>max</th>\n",
        "      <td>    6.387961</td>\n",
        "      <td>    2.425376</td>\n",
        "      <td>    6.400476</td>\n",
        "      <td>    2.053095</td>\n",
        "      <td>  260.990156</td>\n",
        "      <td>  129.921803</td>\n",
        "      <td>    1.721309</td>\n",
        "      <td>    0.680448</td>\n",
        "      <td>  238.997593</td>\n",
        "      <td>   91.541461</td>\n",
        "      <td>    1.633469</td>\n",
        "      <td>    0.594838</td>\n",
        "    </tr>\n",
        "  </tbody>\n",
        "</table>\n",
        "</div>"
       ],
       "metadata": {},
       "output_type": "pyout",
       "prompt_number": 5,
       "text": [
        "       cust_mean_articulation_rate  cust_sd_articulation_rate  \\\n",
        "count                  2002.000000                2002.000000   \n",
        "mean                      4.848766                   0.693405   \n",
        "std                       0.435694                   0.253953   \n",
        "min                       0.700000                   0.005774   \n",
        "25%                       4.542500                   0.576217   \n",
        "50%                       4.856493                   0.708838   \n",
        "75%                       5.143542                   0.827425   \n",
        "max                       6.387961                   2.425376   \n",
        "\n",
        "       age_mean_articulation_rate  age_sd_articulation_rate  cust_mean_f0  \\\n",
        "count                 2002.000000               2002.000000   2002.000000   \n",
        "mean                     5.145975                  0.799920    128.061075   \n",
        "std                      0.400383                  0.186367     34.907303   \n",
        "min                      0.725000                  0.116905      1.141639   \n",
        "25%                      4.910706                  0.687825    101.862581   \n",
        "50%                      5.159856                  0.777665    121.638121   \n",
        "75%                      5.387731                  0.883048    152.653694   \n",
        "max                      6.400476                  2.053095    260.990156   \n",
        "\n",
        "        cust_sd_f0  cust_mean_loudness  cust_sd_loudness  age_mean_f0  \\\n",
        "count  2002.000000         2002.000000       2002.000000  2002.000000   \n",
        "mean     29.060371            0.813690          0.198729   133.920567   \n",
        "std      12.711645            0.234001          0.086241    35.844737   \n",
        "min       0.668917            0.048091          0.000388     4.073363   \n",
        "25%      21.427485            0.668948          0.142530   103.487214   \n",
        "50%      27.188531            0.794938          0.187609   137.825228   \n",
        "75%      34.322609            0.940467          0.246593   160.544706   \n",
        "max     129.921803            1.721309          0.680448   238.997593   \n",
        "\n",
        "         age_sd_f0  age_mean_loudness  age_sd_loudness  \n",
        "count  2002.000000        2002.000000      2002.000000  \n",
        "mean     30.701066           0.796556         0.205693  \n",
        "std      11.442280           0.206701         0.069347  \n",
        "min       0.457614           0.054995         0.008627  \n",
        "25%      22.609050           0.652981         0.157801  \n",
        "50%      28.892610           0.782158         0.196808  \n",
        "75%      36.823967           0.933930         0.246989  \n",
        "max      91.541461           1.633469         0.594838  "
       ]
      }
     ],
     "prompt_number": 5
    },
    {
     "cell_type": "code",
     "collapsed": false,
     "input": [
      "pd.unique(frame.response)"
     ],
     "language": "python",
     "metadata": {},
     "outputs": [
      {
       "metadata": {},
       "output_type": "pyout",
       "prompt_number": 6,
       "text": [
        "array(['churn', 'keep'], dtype=object)"
       ]
      }
     ],
     "prompt_number": 6
    },
    {
     "cell_type": "code",
     "collapsed": false,
     "input": [
      "frame.response.value_counts()"
     ],
     "language": "python",
     "metadata": {},
     "outputs": [
      {
       "metadata": {},
       "output_type": "pyout",
       "prompt_number": 8,
       "text": [
        "keep     1728\n",
        "churn     274\n",
        "dtype: int64"
       ]
      }
     ],
     "prompt_number": 8
    },
    {
     "cell_type": "code",
     "collapsed": false,
     "input": [
      "import numpy as np\n"
     ],
     "language": "python",
     "metadata": {},
     "outputs": [],
     "prompt_number": 9
    },
    {
     "cell_type": "code",
     "collapsed": false,
     "input": [
      "f = 0.0000568\n",
      "np.round(f, decimals=10)"
     ],
     "language": "python",
     "metadata": {},
     "outputs": [
      {
       "metadata": {},
       "output_type": "pyout",
       "prompt_number": 11,
       "text": [
        "5.6799999999999998e-05"
       ]
      }
     ],
     "prompt_number": 11
    },
    {
     "cell_type": "code",
     "collapsed": false,
     "input": [],
     "language": "python",
     "metadata": {},
     "outputs": []
    }
   ],
   "metadata": {}
  }
 ]
}